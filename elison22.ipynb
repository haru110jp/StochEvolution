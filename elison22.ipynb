{
 "metadata": {
  "name": "",
  "signature": "sha256:8190002392905739aacfb7061b5fc2c61e6c792af5f4304c2180611671875d9b"
 },
 "nbformat": 3,
 "nbformat_minor": 0,
 "worksheets": [
  {
   "cells": [
    {
     "cell_type": "code",
     "collapsed": false,
     "input": [
      "%matplotlib inline"
     ],
     "language": "python",
     "metadata": {},
     "outputs": [],
     "prompt_number": 1
    },
    {
     "cell_type": "code",
     "collapsed": false,
     "input": [
      "from __future__ import division\n",
      "import matplotlib.pyplot as plt\n",
      "import numpy as np\n",
      "import random\n",
      "\n",
      "#This program is designed for the 2*2 \"coordination\" game\n",
      "\n",
      "\n",
      "\n",
      "payoff = np.array([[4,0],[3,2]]) # all players share the same payoff matrix\n",
      "p = 1/3 #If the proportion of players taking 1 exceeds this,other players are better off to take 1\n",
      "N = 10 # the number of players\n",
      "n = 1 # the number of neighbors on one side.it is 2 in total when n = 1\n",
      "actions = [0,1]\n",
      "\n",
      "class player:\n",
      "\tdef __init__(self,actions):\n",
      "\t\tself.init_action()\n",
      "\t\n",
      "\tdef init_action(self):\n",
      "\t\tself.action = random.choice(actions) # the initial action is randomly chosen.\n",
      "\n",
      "players = [player(actions) for i in range(N)] #list of aldrl players in the game.\n",
      "\n",
      "def show_action_profile(players):\n",
      "\tprint [players[i].action for i in range(N)]\n",
      "\t\n",
      "def update_rational(players): # function used when a player is \"rational\"\n",
      "\t# pick a player which can change the action\n",
      "\td = random.choice(range(N))\n",
      "\tnei_numbers = [] # contains the number assigned to each neighbor\n",
      "\tnei_numbers_with_large_small = [i for i in range(-n,n+1)] # contains the chosen player,may contain inappropriate numbers\n",
      "\tdel nei_numbers_with_large_small[n] #delete the chosen player\n",
      "\tfor i in nei_numbers_with_large_small:\n",
      "\t\tif i < 0:\n",
      "\t\t\ti = i + N\n",
      "\n",
      "\t\tif i >= N:\n",
      "\t\t\ti = i - N\n",
      "\n",
      "\t\tnei_numbers.append(i)\n",
      "\t\t\t\n",
      "\tnei_action = [players[i].action for i in nei_numbers] # neighbors' action profile\n",
      "\t\t\n",
      "\tif sum(nei_action) > p:   # determine the action so that it is a best response to the action profile of the community\n",
      "\t\tplayers[d].action = 1\n",
      "\telse:\n",
      "\t\tplayers[d].action = 0\n",
      "\n",
      "def update_irrational(players): # function used when a player is \"irrational\"\n",
      "\td = random.choice(range(N))\n",
      "\tplayers[d].action = random.choice(actions) # action is randomly chosen because he is irrational\n",
      "\t\n",
      "\n",
      "def play(players,X=10000,epsilon=0.1): # X is the number of repetition.epsilon is the possibility of a player getting \"irrational\"\n",
      "\tshow_action_profile(players) #show the initial action profile\n",
      "\tfor i in range(X):\n",
      "\t\tif random.uniform(0,1) > epsilon:\n",
      "\t\t\tupdate_rational(players=players)\n",
      "\t\telse:\n",
      "\t\t\tupdate_irrational(players=players)\n",
      "\t\n",
      "\tshow_action_profile(players) # show the action profile at the end of the game\n",
      "\n",
      "def reset(players): # after using \"play\" you wanna use this to initialize the action profile\n",
      "\tfor i in players:\n",
      "\t\ti.init_action()\n",
      "\n",
      "def draw_histogram(players,X=100,epsilon=0.01): # draws a histogram about the state dynamics during the game.\n",
      " \tstate_list =[] # \"state\" is the number of players taking 1 devided by N\n",
      "\taction_profile = [players[i].action for i in range(N)]\n",
      "\tstate_list.append(sum(action_profile) / N) #added the initial state\n",
      "\t\n",
      "\tfor i in range(X):\n",
      "\t\tif random.uniform(0,1) > epsilon:\n",
      "\t\t\tupdate_rational(players)\n",
      "\t\telse:\n",
      "\t\t\tupdate_irrational(players)\n",
      "\t\t\n",
      "\t\taction_profile = [players[i].action for i in range(N)]\n",
      "\t\tstate_list.append(sum(action_profile) / N)\n",
      "\t\t\n",
      "\tfig, ax = plt.subplots()\n",
      "\tax.hist(state_list)\n",
      "\t\n",
      "\tplt.show()\n",
      "\t\n",
      "def draw_graph(players,X=100,epsilon=0.01): #draws a graph which represents the state dynamics during the game\n",
      "\tstate_list =[] # \"state\" is the number of players taking 1 devided by N\n",
      "\taction_profile = [players[i].action for i in range(N)]\n",
      "\tstate_list.append(sum(action_profile) / N) #added the initial state\n",
      "\t\n",
      "\tfor i in range(X):\n",
      "\t\tif random.uniform(0,1) > epsilon:\n",
      "\t\t\tupdate_rational(players)\n",
      "\t\telse:\n",
      "\t\t\tupdate_irrational(players)\n",
      "\t\t\n",
      "\t\taction_profile = [players[i].action for i in range(N)]\n",
      "\t\tstate_list.append(sum(action_profile) / N)\n",
      "\t\t\t\t\n",
      "\tfig, ax = plt.subplots()\n",
      "\tax.plot(state_list,label='state')\n",
      "\tax.legend(bbox_to_anchor=(1.05, 0), loc='best', borderaxespad=0) \n",
      "\t\n",
      "\tplt.show()"
     ],
     "language": "python",
     "metadata": {},
     "outputs": [],
     "prompt_number": 2
    },
    {
     "cell_type": "code",
     "collapsed": false,
     "input": [
      "show_action_profile(players)"
     ],
     "language": "python",
     "metadata": {},
     "outputs": [
      {
       "output_type": "stream",
       "stream": "stdout",
       "text": [
        "[1, 1, 0, 0, 0, 0, 1, 0, 0, 0]\n"
       ]
      }
     ],
     "prompt_number": 3
    },
    {
     "cell_type": "code",
     "collapsed": false,
     "input": [
      "play(players)"
     ],
     "language": "python",
     "metadata": {},
     "outputs": [
      {
       "output_type": "stream",
       "stream": "stdout",
       "text": [
        "[1, 1, 0, 0, 0, 0, 1, 0, 0, 0]\n",
        "[1, 1, 1, 1, 1, 1, 1, 1, 1, 1]"
       ]
      },
      {
       "output_type": "stream",
       "stream": "stdout",
       "text": [
        "\n"
       ]
      }
     ],
     "prompt_number": 4
    },
    {
     "cell_type": "code",
     "collapsed": false,
     "input": [
      "reset(players)"
     ],
     "language": "python",
     "metadata": {},
     "outputs": [],
     "prompt_number": 5
    },
    {
     "cell_type": "code",
     "collapsed": false,
     "input": [
      "draw_histogram(players,epsilon=0.1)"
     ],
     "language": "python",
     "metadata": {},
     "outputs": [
      {
       "metadata": {},
       "output_type": "display_data",
       "png": "[encoded data removed]",
       "text": [
        "<matplotlib.figure.Figure at 0x75201b0>"
       ]
      }
     ],
     "prompt_number": 6
    },
    {
     "cell_type": "code",
     "collapsed": false,
     "input": [
      "reset(players)"
     ],
     "language": "python",
     "metadata": {},
     "outputs": [],
     "prompt_number": 7
    },
    {
     "cell_type": "code",
     "collapsed": false,
     "input": [
      "draw_graph(players,epsilon=0.15)"
     ],
     "language": "python",
     "metadata": {},
     "outputs": [
      {
       "metadata": {},
       "output_type": "display_data",
       "png": "[encoded data removed]",
       "text": [
        "<matplotlib.figure.Figure at 0x763c2b0>"
       ]
      }
     ],
     "prompt_number": 8
    },
    {
     "cell_type": "code",
     "collapsed": false,
     "input": [],
     "language": "python",
     "metadata": {},
     "outputs": []
    }
   ],
   "metadata": {}
  }
 ]
}