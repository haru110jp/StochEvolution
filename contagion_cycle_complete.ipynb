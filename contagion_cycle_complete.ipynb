{
 "metadata": {
  "name": "",
  "signature": "sha256:2e9eee631a4ad8f52001addb17349f5a73255f6ae711f180f38a32cf67bdc485"
 },
 "nbformat": 3,
 "nbformat_minor": 0,
 "worksheets": [
  {
   "cells": [
    {
     "cell_type": "code",
     "collapsed": false,
     "input": [
      "import numpy as np\n",
      "import networkx as nx\n",
      "import matplotlib.pyplot as plt\n",
      "from __future__ import division\n",
      "from localint import LocalInteraction\n",
      "\n",
      "%matplotlib inline"
     ],
     "language": "python",
     "metadata": {},
     "outputs": [],
     "prompt_number": 1
    },
    {
     "cell_type": "code",
     "collapsed": false,
     "input": [
      "cost = 1\n",
      "payoff_matrix = np.asarray([[11, 11,  0], [11-cost, 11-cost, 10-cost], [3, 10, 10]])\n",
      "payoff_matrix"
     ],
     "language": "python",
     "metadata": {},
     "outputs": [
      {
       "metadata": {},
       "output_type": "pyout",
       "prompt_number": 2,
       "text": [
        "array([[11, 11,  0],\n",
        "       [10, 10,  9],\n",
        "       [ 3, 10, 10]])"
       ]
      }
     ],
     "prompt_number": 2
    },
    {
     "cell_type": "code",
     "collapsed": false,
     "input": [
      "G1 = nx.complete_graph(8)"
     ],
     "language": "python",
     "metadata": {},
     "outputs": [],
     "prompt_number": 3
    },
    {
     "cell_type": "code",
     "collapsed": false,
     "input": [
      "li1 = LocalInteraction(payoff_matrix, nx.adjacency_matrix(G1))\n",
      "def drawg(li, pos=None):\n",
      "    G = nx.Graph(li.adj_matrix)\n",
      "    if pos is None:\n",
      "        pos=nx.circular_layout(G)\n",
      "    nx.draw_networkx_nodes(G, pos, nodelist=G.nodes(), node_size=500, node_color='w')\n",
      "    nx.draw_networkx_edges(G, pos, arrows=True)\n",
      "\n",
      "    labels={}\n",
      "    for i, action in zip(G.nodes(), li.current_actions):\n",
      "        labels[i] = r'${0}$'.format(action)\n",
      "    nx.draw_networkx_labels(G, pos, labels)\n",
      "\n",
      "    plt.axis('off')\n",
      "    plt.show()"
     ],
     "language": "python",
     "metadata": {},
     "outputs": [],
     "prompt_number": 4
    },
    {
     "cell_type": "code",
     "collapsed": false,
     "input": [
      "li1.simulate(ts_length=10000,epsilon=0.01, init_actions=[2,2,2,2,0,0,0,0], revision='sequential')[-1] # cost=1"
     ],
     "language": "python",
     "metadata": {},
     "outputs": [
      {
       "metadata": {},
       "output_type": "pyout",
       "prompt_number": 5,
       "text": [
        "array([2, 2, 2, 2, 2, 2, 2, 2])"
       ]
      }
     ],
     "prompt_number": 5
    },
    {
     "cell_type": "code",
     "collapsed": false,
     "input": [
      "for i in range(500):\n",
      "    outcome = li1.simulate(ts_length=1000,epsilon=0, init_actions=[2,2,0,0,0,0,0,0], revision='sequential')[-1]\n",
      "    print outcome\n",
      "    if all(outcome == 0):\n",
      "        break\n",
      "print i"
     ],
     "language": "python",
     "metadata": {},
     "outputs": [
      {
       "output_type": "stream",
       "stream": "stdout",
       "text": [
        "[0 0 0 0 0 0 0 0]\n",
        "0\n"
       ]
      }
     ],
     "prompt_number": 6
    },
    {
     "cell_type": "code",
     "collapsed": false,
     "input": [
      "for i in range(500):\n",
      "    outcome = li1.simulate(ts_length=1000,epsilon=0.01, init_actions=[2,2,0,0,0,0,0,0], revision='sequential')[-1]\n",
      "    print outcome\n",
      "    if all(outcome == 0):\n",
      "        break\n",
      "print i"
     ],
     "language": "python",
     "metadata": {},
     "outputs": [
      {
       "output_type": "stream",
       "stream": "stdout",
       "text": [
        "[2 2 2 2 2 2 2 2]\n",
        "[0 0 0 0 0 0 0 0]"
       ]
      },
      {
       "output_type": "stream",
       "stream": "stdout",
       "text": [
        "\n",
        "1\n"
       ]
      }
     ],
     "prompt_number": 7
    },
    {
     "cell_type": "code",
     "collapsed": false,
     "input": [
      "G2 = nx.cycle_graph(8)\n",
      "li2 = LocalInteraction(payoff_matrix, nx.adjacency_matrix(G2))\n",
      "li2.simulate(ts_length=10000,epsilon=0.01, init_actions=[2,2,2,2,0,0,0,0], revision='sequential')[-1]"
     ],
     "language": "python",
     "metadata": {},
     "outputs": [
      {
       "metadata": {},
       "output_type": "pyout",
       "prompt_number": 16,
       "text": [
        "array([0, 0, 0, 0, 0, 0, 2, 0])"
       ]
      }
     ],
     "prompt_number": 16
    },
    {
     "cell_type": "code",
     "collapsed": false,
     "input": [
      "cost2 = 3\n",
      "payoff_matrix2 = np.asarray([[11, 11,  0], [11-cost2, 11-cost2, 10-cost2], [3, 10, 10]])\n",
      "li2 = LocalInteraction(payoff_matrix2, nx.adjacency_matrix(G2))"
     ],
     "language": "python",
     "metadata": {},
     "outputs": [],
     "prompt_number": 17
    },
    {
     "cell_type": "code",
     "collapsed": false,
     "input": [
      "for i in range(500):\n",
      "    outcome = li2.simulate(ts_length=10000,epsilon=0, init_actions=[2,2,2,0,0,0,0,0], revision='sequential')[-1]\n",
      "    if all(outcome == 2):\n",
      "        break\n",
      "print i"
     ],
     "language": "python",
     "metadata": {},
     "outputs": [
      {
       "output_type": "stream",
       "stream": "stdout",
       "text": [
        "499\n"
       ]
      }
     ],
     "prompt_number": 20
    },
    {
     "cell_type": "code",
     "collapsed": false,
     "input": [
      "li1 = LocalInteraction(payoff_matrix2, nx.adjacency_matrix(G1))\n",
      "for i in range(500):\n",
      "    outcome = li1.simulate(ts_length=10000,epsilon=0, init_actions=[2,2,2,0,0,0,0,0], revision='sequential')[-1]\n",
      "    if all(outcome == 2):\n",
      "        break\n",
      "print i"
     ],
     "language": "python",
     "metadata": {},
     "outputs": [
      {
       "output_type": "stream",
       "stream": "stdout",
       "text": [
        "14\n"
       ]
      }
     ],
     "prompt_number": 22
    },
    {
     "cell_type": "code",
     "collapsed": false,
     "input": [
      "G3 = nx.ladder_graph(4)\n",
      "li3 = LocalInteraction(payoff_matrix2, nx.adjacency_matrix(G3))"
     ],
     "language": "python",
     "metadata": {},
     "outputs": [],
     "prompt_number": 23
    },
    {
     "cell_type": "code",
     "collapsed": false,
     "input": [
      "for i in range(500):\n",
      "    outcome = li3.simulate(ts_length=10000,epsilon=0, init_actions=[2,2,2,0,0,0,0,0], revision='sequential')[-1]\n",
      "    print outcome\n",
      "    if all(outcome == 2):\n",
      "        break\n",
      "print i"
     ],
     "language": "python",
     "metadata": {},
     "outputs": [
      {
       "output_type": "stream",
       "stream": "stdout",
       "text": [
        "[2 2 2 2 2 2 2 2]\n",
        "0\n"
       ]
      }
     ],
     "prompt_number": 25
    },
    {
     "cell_type": "code",
     "collapsed": false,
     "input": [
      "G4 = nx.dorogovtsev_goltsev_mendes_graph(2)\n",
      "nx.draw(G4)\n",
      "import matplotlib.pyplot as plt\n",
      "plt.show()"
     ],
     "language": "python",
     "metadata": {},
     "outputs": [
      {
       "metadata": {},
       "output_type": "display_data",
       "png": "[encoded data removed]",
       "text": [
        "<matplotlib.figure.Figure at 0x1a242fd0>"
       ]
      }
     ],
     "prompt_number": 29
    },
    {
     "cell_type": "code",
     "collapsed": false,
     "input": [
      "G5 = nx.wheel_graph(8)\n",
      "nx.draw(G5)\n",
      "plt.show()"
     ],
     "language": "python",
     "metadata": {},
     "outputs": [
      {
       "metadata": {},
       "output_type": "display_data",
       "png": "[encoded data removed]",
       "text": [
        "<matplotlib.figure.Figure at 0x19b9c668>"
       ]
      }
     ],
     "prompt_number": 32
    },
    {
     "cell_type": "code",
     "collapsed": false,
     "input": [
      "li3.set_init_actions([2,2,2,0,0,0,0,0])\n",
      "drawg(li3)"
     ],
     "language": "python",
     "metadata": {},
     "outputs": [
      {
       "metadata": {},
       "output_type": "display_data",
       "png": "[encoded data removed]",
       "text": [
        "<matplotlib.figure.Figure at 0x1a24d7b8>"
       ]
      }
     ],
     "prompt_number": 37
    },
    {
     "cell_type": "code",
     "collapsed": false,
     "input": [
      "li5 = LocalInteraction(payoff_matrix2, nx.adjacency_matrix(G5))\n",
      "li5.set_init_actions([2,0,0,0,0,0,0,0])\n",
      "drawg(li5)"
     ],
     "language": "python",
     "metadata": {},
     "outputs": [
      {
       "metadata": {},
       "output_type": "display_data",
       "png": "[encoded data removed]",
       "text": [
        "<matplotlib.figure.Figure at 0x1942e470>"
       ]
      }
     ],
     "prompt_number": 38
    },
    {
     "cell_type": "code",
     "collapsed": false,
     "input": [
      "for i in range(500):\n",
      "    outcome = li5.simulate(ts_length=10000,epsilon=0, init_actions=[2,0,0,0,0,0,0,0], revision='sequential')[-1]\n",
      "    if all(outcome == 2):\n",
      "        break\n",
      "print i"
     ],
     "language": "python",
     "metadata": {},
     "outputs": [
      {
       "output_type": "stream",
       "stream": "stdout",
       "text": [
        "9\n"
       ]
      }
     ],
     "prompt_number": 39
    },
    {
     "cell_type": "code",
     "collapsed": false,
     "input": [
      "for i in range(500):\n",
      "    outcome = li5.simulate(ts_length=10000,epsilon=0, init_actions=[2,2,2,0,0,0,0,0], revision='sequential')[-1]\n",
      "    if all(outcome == 2):\n",
      "        break\n",
      "print i"
     ],
     "language": "python",
     "metadata": {},
     "outputs": [
      {
       "output_type": "stream",
       "stream": "stdout",
       "text": [
        "0\n"
       ]
      }
     ],
     "prompt_number": 41
    },
    {
     "cell_type": "code",
     "collapsed": false,
     "input": [],
     "language": "python",
     "metadata": {},
     "outputs": []
    }
   ],
   "metadata": {}
  }
 ]
}