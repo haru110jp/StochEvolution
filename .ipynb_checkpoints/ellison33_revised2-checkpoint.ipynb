{
 "metadata": {
  "name": "",
  "signature": "sha256:e2c6c4a21fea685078c72c3f70d62351e8bbff3dceadf947ef7eae09023afdb2"
 },
 "nbformat": 3,
 "nbformat_minor": 0,
 "worksheets": []
}